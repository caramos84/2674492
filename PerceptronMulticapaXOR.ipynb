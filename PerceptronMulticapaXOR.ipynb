{
  "nbformat": 4,
  "nbformat_minor": 0,
  "metadata": {
    "colab": {
      "provenance": [],
      "authorship_tag": "ABX9TyOzddmBgazXBgbd5/JgULPl",
      "include_colab_link": true
    },
    "kernelspec": {
      "name": "python3",
      "display_name": "Python 3"
    },
    "language_info": {
      "name": "python"
    }
  },
  "cells": [
    {
      "cell_type": "markdown",
      "metadata": {
        "id": "view-in-github",
        "colab_type": "text"
      },
      "source": [
        "<a href=\"https://colab.research.google.com/github/caramos84/2674492/blob/main/PerceptronMulticapaXOR.ipynb\" target=\"_parent\"><img src=\"https://colab.research.google.com/assets/colab-badge.svg\" alt=\"Open In Colab\"/></a>"
      ]
    },
    {
      "cell_type": "code",
      "execution_count": 13,
      "metadata": {
        "colab": {
          "base_uri": "https://localhost:8080/"
        },
        "id": "8TiF_9VssSXb",
        "outputId": "96500662-a317-40bf-9e5d-5b3db6408971"
      },
      "outputs": [
        {
          "output_type": "stream",
          "name": "stdout",
          "text": [
            "Epoch 0, Error: 0.48788\n",
            "Epoch 1000, Error: 0.43424\n",
            "Epoch 2000, Error: 0.37512\n",
            "Epoch 3000, Error: 0.32541\n",
            "Epoch 4000, Error: 0.28427\n",
            "Epoch 5000, Error: 0.25059\n",
            "Epoch 6000, Error: 0.22309\n",
            "Epoch 7000, Error: 0.20059\n",
            "Epoch 8000, Error: 0.18204\n",
            "Epoch 9000, Error: 0.16662\n",
            "Epoch 10000, Error: 0.15367\n",
            "Epoch 11000, Error: 0.14268\n",
            "Epoch 12000, Error: 0.13326\n",
            "Epoch 13000, Error: 0.12512\n",
            "Epoch 14000, Error: 0.11801\n",
            "Epoch 15000, Error: 0.11177\n",
            "Epoch 16000, Error: 0.10623\n",
            "Epoch 17000, Error: 0.10130\n",
            "Epoch 18000, Error: 0.09688\n",
            "Epoch 19000, Error: 0.09288\n",
            "\n",
            "Resultados finales:\n",
            "Entrada: [0 0] → Predicción: 0.085\n",
            "Entrada: [0 1] → Predicción: 0.911\n",
            "Entrada: [1 0] → Predicción: 0.911\n",
            "Entrada: [1 1] → Predicción: 0.093\n"
          ]
        }
      ],
      "source": [
        "# Perceptrón Multicapa\n",
        "# Código de la red neuronal XOR\n",
        "# Carlos Ramos + gpt-o1\n",
        "# 09/02/2025\n",
        "\n",
        "import numpy as np\n",
        "\n",
        "# Función de activación.\n",
        "def sigmoid(x):\n",
        "\treturn 1 / (1 + np.exp(-x))\n",
        "\n",
        "# Derivada de la Sigmoide.\n",
        "def sigmoid_derivative(x):\n",
        "\treturn x * (1 - x)\n",
        "\n",
        "# Datos entrada (XOR)\n",
        "X = np.array([[0,0],[0,1],[1,0],[1,1]])\n",
        "Y = np.array([[0],[1],[1],[0]])\n",
        "\n",
        "# Incialización de pesos\n",
        "np.random.seed(42)\n",
        "W1 = np.random.uniform(-1,1,(2,1000))\n",
        "W2 = np.random.uniform(-1,1,(1000,1))\n",
        "\n",
        "# Tasa de aprendizaje\n",
        "lr = 0.01\n",
        "epochs = 20000\n",
        "\n",
        "# Entrenamiento con retropropagación\n",
        "for epoch in range(epochs):\n",
        "\n",
        "\t# Forward Pass\n",
        "\thidden_input = np.dot(X,W1)\n",
        "\thidden_output = sigmoid(hidden_input)\n",
        "\n",
        "\tfinal_input = np.dot(hidden_output,W2)\n",
        "\tfinal_output = sigmoid(final_input)\n",
        "\n",
        "\t# Cálculo del error\n",
        "\terror = Y - final_output\n",
        "\n",
        "\t# Backpropagation\n",
        "\td_output = error*sigmoid_derivative(final_output)\n",
        "\td_hidden = np.dot(d_output,W2.T)*sigmoid_derivative(hidden_output)\n",
        "\n",
        "\t# Actualización de pesos\n",
        "\tW2 += np.dot(hidden_output.T,d_output)*lr\n",
        "\tW1 += np.dot(X.T,d_hidden)*lr\n",
        "\n",
        "\t# Mostrar error cada 1000\n",
        "\tif epoch % 1000 == 0:\n",
        "\t\tprint(f\"Epoch {epoch}, Error: {np.mean(np.abs(error)):.5f}\")\n",
        "\n",
        "# Predicción final\n",
        "print(\"\\nResultados finales:\")\n",
        "for i in range(len(X)):\n",
        "\th = sigmoid(np.dot(X[i],W1))\n",
        "\to = sigmoid(np.dot(h,W2))\n",
        "\tprint(f\"Entrada: {X[i]} → Predicción: {o[0]:.3f}\")"
      ]
    }
  ]
}