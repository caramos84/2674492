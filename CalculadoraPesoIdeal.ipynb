{
  "nbformat": 4,
  "nbformat_minor": 0,
  "metadata": {
    "colab": {
      "provenance": [],
      "authorship_tag": "ABX9TyOOIimbFmHXGc7GazHDK1K9",
      "include_colab_link": true
    },
    "kernelspec": {
      "name": "python3",
      "display_name": "Python 3"
    },
    "language_info": {
      "name": "python"
    }
  },
  "cells": [
    {
      "cell_type": "markdown",
      "metadata": {
        "id": "view-in-github",
        "colab_type": "text"
      },
      "source": [
        "<a href=\"https://colab.research.google.com/github/caramos84/2674492/blob/main/CalculadoraPesoIdeal.ipynb\" target=\"_parent\"><img src=\"https://colab.research.google.com/assets/colab-badge.svg\" alt=\"Open In Colab\"/></a>"
      ]
    },
    {
      "cell_type": "code",
      "execution_count": 12,
      "metadata": {
        "colab": {
          "base_uri": "https://localhost:8080/"
        },
        "id": "w0p1-xaVa6w3",
        "outputId": "72b68eea-b1dd-4dea-ef17-f64047818ce5"
      },
      "outputs": [
        {
          "output_type": "stream",
          "name": "stdout",
          "text": [
            "Epoch 0, Error: 0.41960\n",
            "Epoch 1000, Error: 0.00060\n",
            "Epoch 2000, Error: 0.00028\n",
            "Epoch 3000, Error: 0.00018\n",
            "Epoch 4000, Error: 0.00013\n",
            "Epoch 5000, Error: 0.00010\n",
            "Epoch 6000, Error: 0.00008\n",
            "Epoch 7000, Error: 0.00007\n",
            "Epoch 8000, Error: 0.00006\n",
            "Epoch 9000, Error: 0.00005\n",
            "Epoch 10000, Error: 0.00005\n",
            "Epoch 11000, Error: 0.00004\n",
            "Epoch 12000, Error: 0.00004\n",
            "Epoch 13000, Error: 0.00003\n",
            "Epoch 14000, Error: 0.00003\n",
            "Altura: 1.55 m, Peso: 52.00 kg → Categoría: Bajo peso\n",
            "Altura: 1.73 m, Peso: 72.00 kg → Categoría: Peso ideal\n",
            "Altura: 1.87 m, Peso: 100.00 kg → Categoría: Sobrepeso\n"
          ]
        }
      ],
      "source": [
        "# Calculadora de peso ideal\n",
        "# Verificación de si una persona está o no en un buen peso\n",
        "# Carlos Ramos + gpt-o1\n",
        "# 10/02/2025\n",
        "\n",
        "import numpy as np\n",
        "\n",
        "# Función de activación: tangente hiperbólica\n",
        "def tanh(x):\n",
        "    return np.tanh(x)\n",
        "\n",
        "def tanh_derivative(x):\n",
        "    return 1 - np.tanh(x) ** 2\n",
        "\n",
        "# Softmax para la capa de salida\n",
        "def softmax(x):\n",
        "    exp_x = np.exp(x - np.max(x, axis=1, keepdims=True))\n",
        "    return exp_x / exp_x.sum(axis=1, keepdims=True)\n",
        "\n",
        "# Datos de entrenamiento ampliados\n",
        "X = np.array([\n",
        "    [1.45, 40], [1.50, 45], [1.55, 50], [1.60, 55],  # Bajo peso\n",
        "    [1.65, 60], [1.70, 68], [1.75, 75], [1.80, 85],  # Peso ideal\n",
        "    [1.85, 95], [1.90, 105], [1.95, 115]            # Sobrepeso\n",
        "])\n",
        "\n",
        "# Etiquetas en One-Hot Encoding\n",
        "Y = np.array([\n",
        "    [1, 0, 0], [1, 0, 0], [1, 0, 0], [1, 0, 0],  # Bajo peso\n",
        "    [0, 1, 0], [0, 1, 0], [0, 1, 0], [0, 1, 0],  # Peso ideal\n",
        "    [0, 0, 1], [0, 0, 1], [0, 0, 1]             # Sobrepeso\n",
        "])\n",
        "\n",
        "# Normalización (Estandarización Z-score)\n",
        "X_mean = np.mean(X, axis=0)\n",
        "X_std = np.std(X, axis=0)\n",
        "X = (X - X_mean) / X_std\n",
        "\n",
        "# Inicialización de pesos (Xavier Initialization)\n",
        "W1 = np.random.randn(2, 6) * np.sqrt(2 / 2)  # Aumentamos a 6 neuronas en capa oculta\n",
        "W2 = np.random.randn(6, 3) * np.sqrt(2 / 6)\n",
        "\n",
        "# Hiperparámetros\n",
        "lr = 0.3\n",
        "epochs = 15000\n",
        "\n",
        "# Entrenamiento\n",
        "for epoch in range(epochs):\n",
        "    # Forward Pass\n",
        "    hidden_input = np.dot(X, W1)\n",
        "    hidden_output = tanh(hidden_input)\n",
        "\n",
        "    final_input = np.dot(hidden_output, W2)\n",
        "    final_output = softmax(final_input)\n",
        "\n",
        "    # Cálculo de error\n",
        "    error = Y - final_output\n",
        "\n",
        "    # Backpropagation\n",
        "    d_output = error\n",
        "    d_hidden = np.dot(d_output, W2.T) * tanh_derivative(hidden_output)\n",
        "\n",
        "    # Actualización de pesos\n",
        "    W2 += np.dot(hidden_output.T, d_output) * lr\n",
        "    W1 += np.dot(X.T, d_hidden) * lr\n",
        "\n",
        "    # Muestra de error cada 1000 iteraciones\n",
        "    if epoch % 1000 == 0:\n",
        "        print(f\"Epoch {epoch}, Error: {np.mean(np.abs(error)):.5f}\")\n",
        "\n",
        "# Predicción final con nuevos datos\n",
        "test_data = np.array([[1.55, 52], [1.73, 72], [1.87, 100]])\n",
        "\n",
        "# Aplicar la misma normalización a los datos de prueba\n",
        "test_data = (test_data - X_mean) / X_std\n",
        "\n",
        "hidden_layer = tanh(np.dot(test_data, W1))\n",
        "output_layer = softmax(np.dot(hidden_layer, W2))\n",
        "\n",
        "# Definiendo categorías\n",
        "categories = [\"Bajo peso\", \"Peso ideal\", \"Sobrepeso\"]\n",
        "\n",
        "for i in range(len(test_data)):\n",
        "    prediction = np.argmax(output_layer[i])\n",
        "    print(f\"Altura: {test_data[i][0] * X_std[0] + X_mean[0]:.2f} m, \"\n",
        "          f\"Peso: {test_data[i][1] * X_std[1] + X_mean[1]:.2f} kg → \"\n",
        "          f\"Categoría: {categories[prediction]}\")"
      ]
    }
  ]
}